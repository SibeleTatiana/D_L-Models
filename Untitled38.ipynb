{
  "nbformat": 4,
  "nbformat_minor": 0,
  "metadata": {
    "colab": {
      "provenance": [],
      "toc_visible": true,
      "authorship_tag": "ABX9TyM9EhtSf3WXnwyykAQoy+bn",
      "include_colab_link": true
    },
    "kernelspec": {
      "name": "python3",
      "display_name": "Python 3"
    },
    "language_info": {
      "name": "python"
    }
  },
  "cells": [
    {
      "cell_type": "markdown",
      "metadata": {
        "id": "view-in-github",
        "colab_type": "text"
      },
      "source": [
        "<a href=\"https://colab.research.google.com/github/SibeleTatiana/D_L-Models/blob/main/Untitled38.ipynb\" target=\"_parent\"><img src=\"https://colab.research.google.com/assets/colab-badge.svg\" alt=\"Open In Colab\"/></a>"
      ]
    },
    {
      "cell_type": "markdown",
      "source": [
        "# 1 - Bibliotecas:\n",
        "Primeiro, vamos importar as bibliotecas necessárias."
      ],
      "metadata": {
        "id": "_o1fMiI9V088"
      }
    },
    {
      "cell_type": "code",
      "execution_count": 1,
      "metadata": {
        "id": "Fb8EB_fdTNIl"
      },
      "outputs": [],
      "source": [
        "import pandas as pd\n",
        "from sklearn.model_selection import train_test_split\n",
        "from sklearn.metrics import mean_squared_error\n",
        "import xgboost as xgb"
      ]
    },
    {
      "cell_type": "markdown",
      "source": [
        "# 2 - Dataset:\n",
        "Subir o dataset e verificamos a estrutura dos dados."
      ],
      "metadata": {
        "id": "e2DGGP66WOW_"
      }
    },
    {
      "cell_type": "code",
      "source": [
        "# Carregar os dados\n",
        "data = pd.read_csv('/home/2024.csv')\n",
        "\n",
        "# Explorar os dados\n",
        "print(data.head())\n",
        "print(data.info())\n",
        "print(data.isnull().sum())"
      ],
      "metadata": {
        "colab": {
          "base_uri": "https://localhost:8080/"
        },
        "id": "5-4z3FFXTrJB",
        "outputId": "8b4db646-e83b-4edf-8b21-04d714b50cd4"
      },
      "execution_count": 3,
      "outputs": [
        {
          "output_type": "stream",
          "name": "stderr",
          "text": [
            "<ipython-input-3-a2d4452da782>:2: DtypeWarning: Columns (23) have mixed types. Specify dtype option on import or set low_memory=False.\n",
            "  data = pd.read_csv('/home/2024.csv')  # Mude o caminho conforme necessário se o arquivo tiver outro nome\n"
          ]
        },
        {
          "output_type": "stream",
          "name": "stdout",
          "text": [
            "         Data  Hora UTC PRECIPITAÇÃO TOTAL, HORÁRIO (mm)  \\\n",
            "0  2024/01/01  0000 UTC                                0   \n",
            "1  2024/01/01  0100 UTC                                0   \n",
            "2  2024/01/01  0200 UTC                                0   \n",
            "3  2024/01/01  0300 UTC                              NaN   \n",
            "4  2024/01/01  0400 UTC                                0   \n",
            "\n",
            "  PRESSAO ATMOSFERICA AO NIVEL DA ESTACAO, HORARIA (mB)  \\\n",
            "0                                              999,3      \n",
            "1                                              999,8      \n",
            "2                                             1000,1      \n",
            "3                                                NaN      \n",
            "4                                              999,5      \n",
            "\n",
            "  PRESSÃO ATMOSFERICA MAX.NA HORA ANT. (AUT) (mB)  \\\n",
            "0                                           999,3   \n",
            "1                                           999,8   \n",
            "2                                          1000,2   \n",
            "3                                             NaN   \n",
            "4                                            1000   \n",
            "\n",
            "  PRESSÃO ATMOSFERICA MIN. NA HORA ANT. (AUT) (mB) RADIACAO GLOBAL (Kj/m²)  \\\n",
            "0                                            998,8                     NaN   \n",
            "1                                            999,3                     NaN   \n",
            "2                                            999,8                     NaN   \n",
            "3                                              NaN                     NaN   \n",
            "4                                            999,5                     NaN   \n",
            "\n",
            "  TEMPERATURA DO AR - BULBO SECO, HORARIA (°C)  \\\n",
            "0                                         29,5   \n",
            "1                                         28,8   \n",
            "2                                         28,2   \n",
            "3                                          NaN   \n",
            "4                                         27,3   \n",
            "\n",
            "  TEMPERATURA DO PONTO DE ORVALHO (°C)  \\\n",
            "0                                 23,8   \n",
            "1                                   24   \n",
            "2                                 23,1   \n",
            "3                                  NaN   \n",
            "4                                 22,3   \n",
            "\n",
            "  TEMPERATURA MÁXIMA NA HORA ANT. (AUT) (°C)  ... VENTO, RAJADA MAXIMA (m/s)  \\\n",
            "0                                       29,8  ...                        5,3   \n",
            "1                                       29,5  ...                        5,7   \n",
            "2                                       28,8  ...                        4,5   \n",
            "3                                        NaN  ...                        NaN   \n",
            "4                                       27,5  ...                        3,9   \n",
            "\n",
            "  VENTO, VELOCIDADE HORARIA (m/s) REGIAO  UF       ESTACAO  CODIGO (WMO)  \\\n",
            "0                             2,7      N  PA  MONTE ALEGRE          A239   \n",
            "1                             2,3      N  PA  MONTE ALEGRE          A239   \n",
            "2                             2,1      N  PA  MONTE ALEGRE          A239   \n",
            "3                             NaN      N  PA  MONTE ALEGRE          A239   \n",
            "4                             2,2      N  PA  MONTE ALEGRE          A239   \n",
            "\n",
            "   LATITUDE LONGITUDE ALTITUDE DATA DE FUNDACAO  \n",
            "0        -2       -54      100         06/07/12  \n",
            "1        -2       -54      100         06/07/12  \n",
            "2        -2       -54      100         06/07/12  \n",
            "3        -2       -54      100         06/07/12  \n",
            "4        -2       -54      100         06/07/12  \n",
            "\n",
            "[5 rows x 27 columns]\n",
            "<class 'pandas.core.frame.DataFrame'>\n",
            "RangeIndex: 2339354 entries, 0 to 2339353\n",
            "Data columns (total 27 columns):\n",
            " #   Column                                                 Dtype  \n",
            "---  ------                                                 -----  \n",
            " 0   Data                                                   object \n",
            " 1   Hora UTC                                               object \n",
            " 2   PRECIPITAÇÃO TOTAL, HORÁRIO (mm)                       object \n",
            " 3   PRESSAO ATMOSFERICA AO NIVEL DA ESTACAO, HORARIA (mB)  object \n",
            " 4   PRESSÃO ATMOSFERICA MAX.NA HORA ANT. (AUT) (mB)        object \n",
            " 5   PRESSÃO ATMOSFERICA MIN. NA HORA ANT. (AUT) (mB)       object \n",
            " 6   RADIACAO GLOBAL (Kj/m²)                                object \n",
            " 7   TEMPERATURA DO AR - BULBO SECO, HORARIA (°C)           object \n",
            " 8   TEMPERATURA DO PONTO DE ORVALHO (°C)                   object \n",
            " 9   TEMPERATURA MÁXIMA NA HORA ANT. (AUT) (°C)             object \n",
            " 10  TEMPERATURA MÍNIMA NA HORA ANT. (AUT) (°C)             object \n",
            " 11  TEMPERATURA ORVALHO MAX. NA HORA ANT. (AUT) (°C)       object \n",
            " 12  TEMPERATURA ORVALHO MIN. NA HORA ANT. (AUT) (°C)       object \n",
            " 13  UMIDADE REL. MAX. NA HORA ANT. (AUT) (%)               float64\n",
            " 14  UMIDADE REL. MIN. NA HORA ANT. (AUT) (%)               float64\n",
            " 15  UMIDADE RELATIVA DO AR, HORARIA (%)                    float64\n",
            " 16  VENTO, DIREÇÃO HORARIA (gr) (° (gr))                   float64\n",
            " 17  VENTO, RAJADA MAXIMA (m/s)                             object \n",
            " 18  VENTO, VELOCIDADE HORARIA (m/s)                        object \n",
            " 19  REGIAO                                                 object \n",
            " 20  UF                                                     object \n",
            " 21  ESTACAO                                                object \n",
            " 22  CODIGO (WMO)                                           object \n",
            " 23  LATITUDE                                               object \n",
            " 24  LONGITUDE                                              int64  \n",
            " 25  ALTITUDE                                               int64  \n",
            " 26  DATA DE FUNDACAO                                       object \n",
            "dtypes: float64(4), int64(2), object(21)\n",
            "memory usage: 481.9+ MB\n",
            "None\n",
            "Data                                                           0\n",
            "Hora UTC                                                       0\n",
            "PRECIPITAÇÃO TOTAL, HORÁRIO (mm)                          581893\n",
            "PRESSAO ATMOSFERICA AO NIVEL DA ESTACAO, HORARIA (mB)     362393\n",
            "PRESSÃO ATMOSFERICA MAX.NA HORA ANT. (AUT) (mB)           364450\n",
            "PRESSÃO ATMOSFERICA MIN. NA HORA ANT. (AUT) (mB)          364454\n",
            "RADIACAO GLOBAL (Kj/m²)                                  1126817\n",
            "TEMPERATURA DO AR - BULBO SECO, HORARIA (°C)              372615\n",
            "TEMPERATURA DO PONTO DE ORVALHO (°C)                      520784\n",
            "TEMPERATURA MÁXIMA NA HORA ANT. (AUT) (°C)                374754\n",
            "TEMPERATURA MÍNIMA NA HORA ANT. (AUT) (°C)                374686\n",
            "TEMPERATURA ORVALHO MAX. NA HORA ANT. (AUT) (°C)          524818\n",
            "TEMPERATURA ORVALHO MIN. NA HORA ANT. (AUT) (°C)          525627\n",
            "UMIDADE REL. MAX. NA HORA ANT. (AUT) (%)                  512704\n",
            "UMIDADE REL. MIN. NA HORA ANT. (AUT) (%)                  512603\n",
            "UMIDADE RELATIVA DO AR, HORARIA (%)                       509734\n",
            "VENTO, DIREÇÃO HORARIA (gr) (° (gr))                      477389\n",
            "VENTO, RAJADA MAXIMA (m/s)                                474987\n",
            "VENTO, VELOCIDADE HORARIA (m/s)                           471754\n",
            "REGIAO                                                         0\n",
            "UF                                                             0\n",
            "ESTACAO                                                        0\n",
            "CODIGO (WMO)                                                   0\n",
            "LATITUDE                                                   13104\n",
            "LONGITUDE                                                      0\n",
            "ALTITUDE                                                       0\n",
            "DATA DE FUNDACAO                                               0\n",
            "dtype: int64\n"
          ]
        }
      ]
    },
    {
      "cell_type": "markdown",
      "source": [
        "# 3 - DtypeWarning:\n",
        "\n",
        "A mensagem de aviso que você está vendo sugere que algumas colunas possuem tipos mistos. Isso geralmente ocorre quando algumas entradas não são do tipo esperado (por exemplo, números representados como strings).\n",
        "\n",
        "Podemos evitar esse aviso configurando o parâmetro low_memory=False e tentando converter as colunas para tipos apropriados após carregar os dados:"
      ],
      "metadata": {
        "id": "_76LBodxVdeQ"
      }
    },
    {
      "cell_type": "code",
      "source": [
        "data = pd.read_csv('/home/2024.csv', low_memory=False)\n",
        "\n",
        "# Vamos converter colunas que deveriam ser numéricas\n",
        "cols_to_convert = [\n",
        "    'PRECIPITAÇÃO TOTAL, HORÁRIO (mm)',\n",
        "    'PRESSAO ATMOSFERICA AO NIVEL DA ESTACAO, HORARIA (mB)',\n",
        "    'PRESSÃO ATMOSFERICA MAX.NA HORA ANT. (AUT) (mB)',\n",
        "    # Continue a lista com outras colunas necessárias\n",
        "]\n",
        "\n",
        "for col in cols_to_convert:\n",
        "    data[col] = data[col].str.replace(',', '.')  # Substituímos vírgulas por pontos antes de converter\n",
        "    data[col] = pd.to_numeric(data[col], errors='coerce')  # Convertemos para numérico"
      ],
      "metadata": {
        "id": "7QsstoZPVkGT"
      },
      "execution_count": 4,
      "outputs": []
    },
    {
      "cell_type": "markdown",
      "source": [
        "# 4 - Valores Faltantes:\n",
        "\n",
        "Preencher com outros valores (e.g., média ou mediana).\n",
        "\n",
        "Obs: Note que, para colunas categóricas, a abordagem pode ser diferente, como preenchimento com o valor mais frequente ou outra lógica específica."
      ],
      "metadata": {
        "id": "-Ne255RqXGNO"
      }
    },
    {
      "cell_type": "code",
      "source": [
        "data.fillna(data.mean(), inplace=True)  # Use outra estratégia se necessário"
      ],
      "metadata": {
        "id": "BWaumgmnXlEa"
      },
      "execution_count": null,
      "outputs": []
    },
    {
      "cell_type": "markdown",
      "source": [
        "# 5 - Verificação de Tipo:\n",
        "Após a conversão, verificar se as mudanças foram aplicadas corretamente"
      ],
      "metadata": {
        "id": "6GOkFqjsYpHa"
      }
    },
    {
      "cell_type": "code",
      "source": [
        "print(data.dtypes)"
      ],
      "metadata": {
        "id": "8pHHrNaeY4UE"
      },
      "execution_count": null,
      "outputs": []
    },
    {
      "cell_type": "markdown",
      "source": [
        "# 6 - Ajuste no Preprocessamento & Modelagem:\n",
        "Agora que os dados estão processados, podemos proceder para o próximo passo, dividir os dados em conjuntos de treinamento e teste, e treinar o modelo."
      ],
      "metadata": {
        "id": "zS5__QmJY7s2"
      }
    },
    {
      "cell_type": "markdown",
      "source": [
        "# 7 - Dividir os Dados em Treinamento e Teste\n",
        "Primeiro, precisamos definir quais colunas queremos usar como features (X) e qual será nossa variável de alvo (y). Vou assumir que você já escolheu a variável de alvo. Substitua 'variavel_alvo' pelo nome da coluna que deseja prever."
      ],
      "metadata": {
        "id": "o7DQCYpIZvOV"
      }
    }
  ]
}